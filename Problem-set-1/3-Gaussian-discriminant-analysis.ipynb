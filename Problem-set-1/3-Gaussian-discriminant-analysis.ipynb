{
 "cells": [
  {
   "cell_type": "markdown",
   "metadata": {},
   "source": [
    "http://cs229.stanford.edu/ps/ps1/ps1.pdf"
   ]
  },
  {
   "cell_type": "markdown",
   "metadata": {},
   "source": [
    "# (a)"
   ]
  },
  {
   "cell_type": "markdown",
   "metadata": {},
   "source": [
    "Given \n",
    "\n",
    "\\begin{align*} \n",
    "p(y) &= \\begin{cases}\n",
    "  \\phi          & \\text{if} \\; y = 1 \\\\\n",
    "  1 - \\phi     & \\text{if} \\; y = -1\n",
    "\\end{cases} \\\\\n",
    "p(x|y=1) &= \\frac{1}{(2\\pi)^{n/2} \\left|\\Sigma\\right|^{1/2}} \\mathrm{exp}\\bigg(-\\frac{1}{2}(x - \\mu_{1})^T \\Sigma^{-1} (x - \\mu_{1}) \\bigg) \\\\\n",
    "p(x|y=-1) &= \\frac{1}{(2\\pi)^{n/2} \\left|\\Sigma\\right|^{1/2}} \\mathrm{exp}\\bigg(-\\frac{1}{2}(x - \\mu_{-1})^T \\Sigma^{-1} (x - \\mu_{-1}) \\bigg) \\\\\n",
    "\\end{align*}\n"
   ]
  },
  {
   "cell_type": "markdown",
   "metadata": {},
   "source": [
    "For clarify, rewrite\n",
    "\n",
    "Given \n",
    "\n",
    "\\begin{align*} \n",
    "p(x|y=1)  &= C e^A \\\\\n",
    "p(x|y=-1) &= C e^B \\\\\n",
    "\\end{align*}\n",
    "\n",
    "where\n",
    "\n",
    "\\begin{align*}\n",
    "A &= -\\frac{1}{2}(x - \\mu_{1})^T \\Sigma^{-1} (x - \\mu_{1}) \\\\\n",
    "B &= -\\frac{1}{2}(x - \\mu_{-1})^T \\Sigma^{-1} (x - \\mu_{-1}) \\\\\n",
    "C &= \\frac{1}{(2\\pi)^{n/2} \\left|\\Sigma\\right|^{1/2}}\n",
    "\\end{align*}"
   ]
  },
  {
   "cell_type": "markdown",
   "metadata": {},
   "source": [
    "\\begin{align*} \n",
    "p(y|x) &= \\frac{p(x|y) p(y)}{p(x)} \\\\\n",
    "           &= \\frac{p(x|y) p(y)}{p(x|y=1) p(y=1) + p(x|y=-1) p(y=-1)}\n",
    "\\end{align*}"
   ]
  },
  {
   "cell_type": "markdown",
   "metadata": {},
   "source": [
    "When $y=1$,\n",
    "\n",
    "\\begin{align*} \n",
    "p(y|x) &= \\frac{p(x|y=1) p(y=1)}{p(x|y=1) p(y=1) + p(x|y=-1) p(y=-1)} \\\\\n",
    "           &= \\frac{Ce^A \\phi}{Ce^A \\phi + Ce^B (1 - \\phi)} \\\\\n",
    "           &= \\frac{e^A \\phi}{e^A \\phi + e^B (1 - \\phi)} \\\\\n",
    "           &= \\frac{1}{1 + \\frac{1 - \\phi}{\\phi} e^{B - A}} \\\\\n",
    "           &= \\frac{1}{1 + e^{(B - A + \\mathrm{ln}(1 - \\phi) - \\mathrm{ln}\\phi)}} \\\\\n",
    "           &= \\frac{1}{1 + e^{- 1 (A -B + \\mathrm{ln}\\phi - \\mathrm{ln}(1 - \\phi))}} \\\\\n",
    "           &= \\frac{1}{1 + e^{- y (A -B + \\mathrm{ln}\\phi - \\mathrm{ln}(1 - \\phi))}} \\\\\n",
    "\\end{align*}"
   ]
  },
  {
   "cell_type": "markdown",
   "metadata": {},
   "source": [
    "When $y = -1$,\n",
    "\n",
    "\\begin{align*} \n",
    "p(y|x) &= \\frac{p(x|y=-1) p(y=-1)}{p(x|y=1) p(y=1) + p(x|y=-1) p(y=-1)} \\\\\n",
    "           &= \\frac{Ce^B (1 - \\phi)}{Ce^A \\phi + Ce^B (1 - \\phi)} \\\\\n",
    "           &= \\frac{1}{\\frac{\\phi}{1 - \\phi} e^{A - B} + 1} \\\\\n",
    "           &= \\frac{1}{1 + e^{(A - B + \\mathrm{ln}\\phi - \\mathrm{ln}(1 - \\phi))}} \\\\\n",
    "           &= \\frac{1}{1 + e^{- y (A - B + \\mathrm{ln}\\phi - \\mathrm{ln}(1 - \\phi))}} \\\\\n",
    "\\end{align*}"
   ]
  },
  {
   "cell_type": "markdown",
   "metadata": {},
   "source": [
    "Therefore, in both cases,\n",
    "\n",
    "$$p(y|x) = \\frac{1}{1 + e^{- y (A - B + \\mathrm{ln}\\phi - \\mathrm{ln}(1 - \\phi))}}$$\n",
    "\n",
    "which is indeed in the form of a logistic function:\n",
    "\n",
    "$$p(y|x) = \\frac{1}{1 + e^{-y(\\theta^T x + \\theta_0)}}$$\n",
    "\n",
    "where \n",
    "\n",
    "\\begin{align*}\n",
    "\\theta^Tx + \\theta_0 &= A - B + \\mathrm{ln}\\phi - \\mathrm{ln}(1 - \\phi)) \\\\\n",
    "                    &= -\\frac{1}{2}(x - \\mu_{1})^T \\Sigma^{-1} (x - \\mu_{1}) + \\frac{1}{2}(x - \\mu_{-1})^T \\Sigma^{-1} (x - \\mu_{-1}) + \\mathrm{ln}\\phi - \\mathrm{ln}(1 - \\phi))  \\\\\n",
    "                    &= \\frac{1}{2}(x - \\mu_{-1})^T \\Sigma^{-1} (x - \\mu_{-1}) -\\frac{1}{2}(x - \\mu_{1})^T \\Sigma^{-1} (x - \\mu_{1})  + \\mathrm{ln}\\phi - \\mathrm{ln}(1 - \\phi))  \\\\\n",
    "\\end{align*}"
   ]
  },
  {
   "cell_type": "markdown",
   "metadata": {},
   "source": [
    "# (b)"
   ]
  },
  {
   "cell_type": "markdown",
   "metadata": {},
   "source": [
    "In the case when x is of one dimension:\n",
    "\n",
    "\\begin{align*} \n",
    "p(y) &= \\begin{cases}\n",
    "  \\phi          & \\text{if} \\; y = 1 \\\\\n",
    "  1 - \\phi     & \\text{if} \\; y = -1\n",
    "\\end{cases} \\\\\n",
    "p(x|y=1) &= \\frac{1}{(2\\pi \\sigma^2)^{\\frac{1}{2}}} \\mathrm{exp}\\bigg(-\\frac{(x - \\mu_1)^2}{2\\sigma^{2}}\\bigg ) \\\\\n",
    "p(x|y=-1) &= \\frac{1}{(2\\pi \\sigma^2)^{\\frac{1}{2}}} \\mathrm{exp}\\bigg(-\\frac{(x - \\mu_{-1})^2}{2\\sigma^{2}}\\bigg ) \\\\\n",
    "\\end{align*}\n"
   ]
  },
  {
   "cell_type": "markdown",
   "metadata": {},
   "source": [
    "The log-likelihood:\n",
    "\n",
    "\\begin{align*} \n",
    "l(\\phi, \\mu_{1}, \\mu_{-1}, \\sigma^2)\n",
    "    &= \\mathrm{log} \\prod_{i=1}^{m} p(x^{(i)}, y^{(i)}; \\phi, \\mu_{-1}, \\mu_1, \\sigma^2) \\\\\n",
    "    &= \\mathrm{log} \\prod_{i=1}^{m} p(x^{(i)}|y^{(i)}; \\phi, \\mu_{-1}, \\mu_1, \\sigma^2) p(y^{(i)}; \\phi) \\\\\n",
    "    &= \\mathrm{log} \\prod_{i=1}^{m} 1\\{y^{(i)} = 1\\}  \\frac{1}{(2\\pi \\sigma^2)^{\\frac{1}{2}}} \\mathrm{exp}\\bigg(-\\frac{(x^{(i)} - \\mu_1)^2}{2\\sigma^{2}}\\bigg ) \\phi + 1\\{y^{(i)} = -1\\} \\frac{1}{(2\\pi \\sigma^2)^{\\frac{1}{2}}} \\mathrm{exp}\\bigg(-\\frac{(x^{(i)} - \\mu_{-1})^2}{2\\sigma^{2}}\\bigg ) (1 - \\phi) \\\\\n",
    "\\end{align*}"
   ]
  },
  {
   "cell_type": "markdown",
   "metadata": {},
   "source": [
    "Consider there are $m_1$ data point with $y=1$ and $m_{-1}$ with $y=-1$, i.e. \n",
    "\n",
    "\\begin{align*}\n",
    "m_1 &= \\sum_{i=1}^{m} 1\\{y^{(i)} = 1\\}  \\\\\n",
    "m_{-1} &= \\sum_{i=1}^{m} 1\\{y^{(i)} = -1\\}  \\\\\n",
    "m &= m_1 + m_{-1}\n",
    "\\end{align*}"
   ]
  },
  {
   "cell_type": "markdown",
   "metadata": {},
   "source": [
    "Then,\n",
    "\n",
    "\\begin{align*} \n",
    "l(\\phi, \\mu_{1}, \\mu_{-1}, \\sigma^2)\n",
    "    &= \\mathrm{log} \\bigg( \\prod_{i=1}^{m_1}  \\frac{1}{(2\\pi \\sigma^2)^{\\frac{1}{2}}} \\mathrm{exp}\\bigg(-\\frac{(x^{(i)} - \\mu_1)^2}{2\\sigma^{2}}\\bigg ) \\phi \\times \\prod_{j=1}^{m_{-1}} \\frac{1}{(2\\pi \\sigma^2)^{\\frac{1}{2}}} \\mathrm{exp}\\bigg(-\\frac{(x^{(j)} - \\mu_{-1})^2}{2\\sigma^{2}}\\bigg ) (1 - \\phi) \\bigg )\\\\\n",
    "    &= \\sum_{i=1}^{m}\\mathrm{log}( \\frac{1}{(2\\pi \\sigma^2)^{\\frac{1}{2}}}) + \\sum_{i=1}^{m_1} \\bigg(-\\frac{(x^{(i)} - \\mu_1)^2}{2\\sigma^{2}}\\bigg ) + \\sum_{i=1}^{m_1} \\mathrm{log} \\phi + \\sum_{i=1}^{m_{-1}} \\bigg(-\\frac{(x^{(i)} - \\mu_{-1})^2}{2\\sigma^{2}}\\bigg ) + \\sum_{i=1}^{m_{-1}}\\mathrm{log}(1 - \\phi) \\\\\n",
    "   &= \\sum_{i=1}^{m} -\\frac{1}{2} \\mathrm{log}(2\\pi \\sigma^2) - \\sum_{i=1}^{m_1} \\frac{(x^{(i)} - \\mu_1)^2}{2\\sigma^{2}} - \\sum_{i=1}^{m_{-1}} \\frac{(x^{(i)} - \\mu_{-1})^2}{2\\sigma^{2}} + \\sum_{i=1}^{m_1} \\mathrm{log} \\phi  + \\sum_{i=1}^{m_{-1}}\\mathrm{log}(1 - \\phi) \\\\\n",
    "   &= -\\frac{m}{2} \\mathrm{log}(2\\pi \\sigma^2) - \\sum_{i=1}^{m_1} \\frac{(x^{(i)} - \\mu_1)^2}{2\\sigma^{2}} - \\sum_{i=1}^{m_{-1}} \\frac{(x^{(i)} - \\mu_{-1})^2}{2\\sigma^{2}} + m_1 \\mathrm{log} \\phi  + m_{-1}\\mathrm{log}(1 - \\phi) \\\\\n",
    "\\end{align*}"
   ]
  },
  {
   "cell_type": "markdown",
   "metadata": {},
   "source": [
    "ML estimate of $\\phi$:\n",
    "\n",
    "\\begin{align*} \n",
    "\\frac{\\partial l}{\\partial \\phi}\n",
    "    &= \\frac{m_1}{\\phi} - \\frac{m_{-1}}{1 - \\phi} \\\\\n",
    "\\end{align*} \n",
    "\n",
    "letting $\\frac{\\partial l}{\\partial \\phi} = 0$,\n",
    "\n",
    "\\begin{align*} \n",
    "\\frac{m_1}{\\phi} - \\frac{m_{-1}}{1 - \\phi} & = 0 \\\\\n",
    "m_1 (1 - \\phi) - m_{-1} \\phi & = 0 \\\\\n",
    "m_1 - (m_1 + m_{-1}) \\phi &= 0 \\\\\n",
    "m_1 - (m) \\phi &= 0 \\\\\n",
    "\\end{align*} \n",
    "\n",
    "So $$\\phi = \\frac{m_1}{m} = \\frac{1}{m}\\sum_{i=1}^{m} 1\\{y^{(i)} = 1\\}$$"
   ]
  },
  {
   "cell_type": "markdown",
   "metadata": {},
   "source": [
    "ML estimate of $\\mu_1$:\n",
    "\n",
    "\\begin{align*} \n",
    "\\frac{\\partial l}{\\partial \\mu_1}\n",
    "    &=  -\\frac{1}{2 \\sigma ^2}  \\sum_{i=1}^{m_1} 2(x^{(i)} - \\mu_1) \\cdot (-1) \\\\\n",
    "    &=  \\frac{1}{\\sigma ^2}  \\sum_{i=1}^{m_1} (x^{(i)} - \\mu_1) \\\\\n",
    "    &=  \\frac{1}{\\sigma ^2}  \\sum_{i=1}^{m_1} x^{(i)} - \\sum_{i=1}^{m_1} \\mu_1 \\\\\n",
    "    &=  \\frac{1}{\\sigma ^2} \\bigg( \\sum_{i=1}^{m} 1\\{y^{(i)} = 1\\}  x^{(i)} - \\sum_{i=1}^{m} 1\\{y^{(i)} = 1\\}  \\mu_1 \\bigg) \\\\\n",
    "\\end{align*} "
   ]
  },
  {
   "cell_type": "markdown",
   "metadata": {},
   "source": [
    "By letting $\\frac{\\partial l}{\\partial \\mu_1} = 0$,\n",
    "\n",
    "$$ \\mu_1 = \\frac{\\sum_{i=1}^{m} 1\\{y^{(i)} = 1\\}  x^{(i)}}{\\sum_{i=1}^{m} 1\\{y^{(i)} = 1\\}}$$"
   ]
  },
  {
   "cell_type": "markdown",
   "metadata": {},
   "source": [
    "By the same token (or via symmetry since the label of $1$ and $-1$ could be interchangeable),\n",
    "\n",
    "\n",
    "$$ \\mu_{-1} = \\frac{\\sum_{i=1}^{m} 1\\{y^{(i)} = -1\\}  x^{(i)}}{\\sum_{i=1}^{m} 1\\{y^{(i)} = -1\\}}$$"
   ]
  },
  {
   "cell_type": "markdown",
   "metadata": {},
   "source": [
    "ML estimate of $\\sigma^2$ (Note we are doing derivative w.r.t. $\\sigma^2$ instead of $\\sigma$):\n",
    "\n",
    "\\begin{align*} \n",
    "\\frac{\\partial l}{\\partial \\sigma^2}\n",
    "    &= -\\frac{m}{2} \\frac{1}{2\\pi \\sigma^2} 2\\pi - \\sum_{i=1}^{m_1} \\frac{(x^{(i)} - \\mu_1)^2}{2} (- (\\sigma^{2})^{-2}) - \\sum_{i=1}^{m_{-1}} \\frac{(x^{(i)} - \\mu_{-1})^2}{2} (- (\\sigma^{2})^{-2}) \\\\\n",
    "\\frac{\\partial l}{\\partial \\sigma^2}\n",
    "    &= -\\frac{m}{2 \\sigma^2} + \\sum_{i=1}^{m_1} \\frac{(x^{(i)} - \\mu_1)^2}{2\\sigma^{4}} + \\sum_{i=1}^{m_{-1}} \\frac{(x^{(i)} - \\mu_{-1})^2}{2\\sigma^4} \\\\\n",
    "\\end{align*} "
   ]
  },
  {
   "cell_type": "markdown",
   "metadata": {},
   "source": [
    "Letting $\\frac{\\partial l}{\\partial \\sigma^2} = 0$,\n",
    "\n",
    "\\begin{align*} \n",
    "\\frac{m}{2 \\sigma^2} &= \\sum_{i=1}^{m_1} \\frac{(x^{(i)} - \\mu_1)^2}{2 \\sigma^{4}} + \\sum_{i=1}^{m_{-1}} \\frac{(x^{(i)} - \\mu_{-1})^2}{2 \\sigma^4} \\\\\n",
    "m \\sigma^2 &= \\sum_{i=1}^{m_1} (x^{(i)} - \\mu_1)^2 + \\sum_{i=1}^{m_{-1}} (x^{(i)} - \\mu_{-1})^2 \\\\\n",
    "                                   &= \\sum_{i=1}^{m} (x^{(i)} - \\mu_{y{(i)}})^2 \\\\\n",
    "\\sigma^2 &= \\frac{1}{m} \\sum_{i=1}^{m} (x^{(i)} - \\mu_{y{(i)}})^2\n",
    "\\end{align*}"
   ]
  },
  {
   "cell_type": "markdown",
   "metadata": {},
   "source": [
    "# (c)"
   ]
  },
  {
   "cell_type": "markdown",
   "metadata": {},
   "source": [
    "For more general multi-dimensional cases: \n",
    "\n",
    "\\begin{align*} \n",
    "p(y) &= \\begin{cases}\n",
    "  \\phi          & \\text{if} \\; y = 1 \\\\\n",
    "  1 - \\phi     & \\text{if} \\; y = -1\n",
    "\\end{cases} \\\\\n",
    "p(x|y=1) &= \\frac{1}{(2\\pi)^{n/2} \\left|\\Sigma\\right|^{1/2}} \\mathrm{exp}\\bigg(-\\frac{1}{2}(x - \\mu_{1})^T \\Sigma^{-1} (x - \\mu_{1}) \\bigg) \\\\\n",
    "p(x|y=-1) &= \\frac{1}{(2\\pi)^{n/2} \\left|\\Sigma\\right|^{1/2}} \\mathrm{exp}\\bigg(-\\frac{1}{2}(x - \\mu_{-1})^T \\Sigma^{-1} (x - \\mu_{-1}) \\bigg) \\\\\n",
    "\\end{align*}\n",
    "\n",
    "Similar to what has been done in the one-dimensional case, the log-likelihood is:\n",
    "\n",
    "\\begin{align*} \n",
    "l(\\phi, \\mu_{1}, \\mu_{-1}, \\sigma^2)\n",
    "    &= \\mathrm{log} \\bigg( \\prod_{i=1}^{m_1}  \\frac{1}{(2\\pi)^{n/2} \\left|\\Sigma\\right|^{1/2}}  \\mathrm{exp}\\bigg(-\\frac{1}{2}(x^{(i)} - \\mu_{1})^T \\Sigma^{-1} (x^{(i)} - \\mu_{1}) \\bigg) \\phi \\times \\prod_{j=1}^{m_{-1}} \\frac{1}{(2\\pi)^{n/2} \\left|\\Sigma\\right|^{1/2}}  \\mathrm{exp}\\bigg(-\\frac{1}{2}(x^{(j)} - \\mu_{-1})^T \\Sigma^{-1} (x^{(j)} - \\mu_{-1}) \\bigg) (1 - \\phi) \\bigg )\\\\\n",
    "   &= -\\sum_{i=1}^m \\mathrm{log} ((2\\pi)^{n/2} \\left|\\Sigma\\right|^{1/2}) - \\sum_{i=1}^{m_1} \\bigg(\\frac{1}{2}(x^{(i)} - \\mu_{1})^T \\Sigma^{-1} (x^{(i)} - \\mu_{1}) \\bigg) - \\sum_{i=1}^{m_{-1}} \\bigg(\\frac{1}{2}(x^{(i)} - \\mu_{-1})^T \\Sigma^{-1} (x^{(i)} - \\mu_{-1}) \\bigg) + m_1 \\mathrm{log} \\phi  + m_{-1}\\mathrm{log}(1 - \\phi)  \\\\\n",
    "   &= - m(\\frac{n}{2}\\mathrm{log}(2\\pi) + \\log(\\left|\\Sigma\\right|^{1/2})) - \\sum_{i=1}^{m_1} \\bigg(\\frac{1}{2}(x^{(i)} - \\mu_{1})^T \\Sigma^{-1} (x^{(i)} - \\mu_{1}) \\bigg) - \\sum_{i=1}^{m_{-1}} \\bigg(\\frac{1}{2}(x^{(i)} - \\mu_{-1})^T \\Sigma^{-1} (x^{(i)} - \\mu_{-1}) \\bigg) + m_1 \\mathrm{log} \\phi  + m_{-1}\\mathrm{log}(1 - \\phi) \\\\\n",
    "   &= - \\frac{mn}{2}\\mathrm{log}{(2\\pi)} - \\frac{m}{2}\\mathrm{log}(\\left|\\Sigma\\right|) - \\sum_{i=1}^{m_1} \\bigg(\\frac{1}{2}(x^{(i)} - \\mu_{1})^T \\Sigma^{-1} (x^{(i)} - \\mu_{1}) \\bigg) - \\sum_{i=1}^{m_{-1}} \\bigg(\\frac{1}{2}(x^{(i)} - \\mu_{-1})^T \\Sigma^{-1} (x^{(i)} - \\mu_{-1}) \\bigg) + m_1 \\mathrm{log} \\phi  + m_{-1}\\mathrm{log}(1 - \\phi)\n",
    "\\end{align*}\n",
    "\n",
    "The second equal sign is analogous to the one dimensional case, the 3rd and 4th equal signs expands the first part"
   ]
  },
  {
   "cell_type": "code",
   "execution_count": null,
   "metadata": {
    "collapsed": true
   },
   "outputs": [],
   "source": []
  },
  {
   "cell_type": "markdown",
   "metadata": {},
   "source": [
    "The derivation of $\\phi$ is exactly the same as in the one dimensional case."
   ]
  },
  {
   "cell_type": "markdown",
   "metadata": {},
   "source": [
    "Given the following result proved in Problem-set 0, \n",
    "\n",
    "$$\\nabla_x x^TAx = 2Ax$$"
   ]
  },
  {
   "cell_type": "markdown",
   "metadata": {},
   "source": [
    "ML estimate of $\\mu_1$:\n",
    "\n",
    "\\begin{align*} \n",
    "\\nabla_{\\mu_1} l &= - \\sum_{i=1}^{m_1}\\frac{1}{2} \\cdot 2 \\Sigma^{-1} (x^{(i)} - \\mu_1)(-1) \\\\\n",
    "                           &= \\Sigma^{-1}\\sum_{i=1}^{m_1}(x^{(i)} - \\mu_1) \\\\\n",
    "                           &= \\Sigma^{-1} \\bigg( \\sum_{i=1}^{m} 1\\{y^{(i)} = 1\\}  x^{(i)} - \\sum_{i=1}^{m} 1\\{y^{(i)} = 1\\}  \\mu_1 \\bigg)\n",
    "\\end{align*}\n",
    "\n",
    "Comparing to the one dimensional case, they are very analogous (they should be) except that $\\frac{1}{\\sigma^2}$ becomes $\\Sigma^{-1}$"
   ]
  },
  {
   "cell_type": "markdown",
   "metadata": {},
   "source": [
    "Letting $\\nabla_{\\mu_1} l = 0$, we again get\n",
    "\n",
    "$$ \\mu_1 = \\frac{\\sum_{i=1}^{m} 1\\{y^{(i)} = 1\\}  x^{(i)}}{\\sum_{i=1}^{m} 1\\{y^{(i)} = 1\\}}$$\n",
    "\n",
    "Similarly, we also again get \n",
    "\n",
    "$$ \\mu_{-1} = \\frac{\\sum_{i=1}^{m} 1\\{y^{(i)} = -1\\}  x^{(i)}}{\\sum_{i=1}^{m} 1\\{y^{(i)} = -1\\}}$$"
   ]
  },
  {
   "cell_type": "markdown",
   "metadata": {},
   "source": [
    "According to http://cs229.stanford.edu/section/cs229-linalg.pdf:\n",
    "\n",
    "\\begin{align*} \n",
    "\\nabla_{A} \\mathrm{log}|A| &= \\frac{1}{|A|} \\nabla_{A}|A| = A^{-1}\n",
    "\\end{align*}\n",
    "\n",
    "and according to Eq. 13.42 in https://people.eecs.berkeley.edu/~jordan/courses/260-spring10/other-readings/chapter13.pdf:\n",
    "\n",
    "\\begin{align*} \n",
    "\\nabla_{A} x^T A x &= xx^T \\\\\n",
    "\\end{align*}"
   ]
  },
  {
   "cell_type": "markdown",
   "metadata": {},
   "source": [
    "With these two pieces of results, let's do $\\nabla_{\\Sigma^{-1}}l$ instead of $\\nabla_{\\Sigma} l$, by part:\n",
    "\n",
    "Part 1: \n",
    "\n",
    "\\begin{align*} \n",
    "\\nabla_{\\Sigma^{-1}} (-\\frac{m}{2}\\mathrm{log}(|\\Sigma|)) = \n",
    "    &= \\nabla_{\\Sigma^{-1}} (\\frac{m}{2}\\mathrm{log}(|\\Sigma^{-1}|))  \\\\\n",
    "    &= \\frac{m}{2}(\\Sigma^{-1})^{-1} \\\\\n",
    "    &= \\frac{m}{2}\\Sigma\n",
    "\\end{align*}\n",
    "\n",
    "Here, we also used the result that the determinant of inverse is equal to the inverse of determinant. "
   ]
  },
  {
   "cell_type": "markdown",
   "metadata": {},
   "source": [
    "Part 2:\n",
    "\n",
    "\\begin{align*} \n",
    "\\nabla_{\\Sigma^{-1}} \\bigg( - \\sum_{i=1}^{m_1} \\bigg(\\frac{1}{2}(x^{(i)} - \\mu_{1})^T \\Sigma^{-1} (x^{(i)} - \\mu_{1}) \\bigg) - \\sum_{i=1}^{m_{-1}} \\bigg(\\frac{1}{2}(x^{(i)} - \\mu_{-1})^T \\Sigma^{-1} (x^{(i)} - \\mu_{-1}) \\bigg) \\bigg ) \n",
    "    &= - \\sum_{i=1}^{m_1} \\bigg(\\frac{1}{2}(x^{(i)} - \\mu_{1}) (x^{(i)} - \\mu_{1})^T \\bigg) - \\sum_{i=1}^{m_{-1}} \\bigg(\\frac{1}{2}(x^{(i)} - \\mu_{-1}) (x^{(i)} - \\mu_{-1})^T \\bigg)   \\\\\n",
    "    &= - \\frac{1}{2} \\sum_{i=1}^{m} (x^{(i)} - \\mu_{y^{(i)}}) (x^{(i)} - \\mu_{y^{(i)}})^T   \\\\\n",
    "\\end{align*}"
   ]
  },
  {
   "cell_type": "markdown",
   "metadata": {},
   "source": [
    "Aggregate the two parts and let it be $0$:\n",
    "\n",
    "\\begin{align*}\n",
    "\\frac{m}{2}\\Sigma - \\frac{1}{2} \\sum_{i=1}^{m} (x^{(i)} - \\mu_{y^{(i)}}) (x^{(i)} - \\mu_{y^{(i)}})^T &= 0 \\\\\n",
    "\\Sigma = \\frac{1}{m} \\sum_{i=1}^{m} (x^{(i)} - \\mu_{y^{(i)}}) (x^{(i)} - \\mu_{y^{(i)}})^T\n",
    "\\end{align*}"
   ]
  },
  {
   "cell_type": "code",
   "execution_count": null,
   "metadata": {
    "collapsed": true
   },
   "outputs": [],
   "source": []
  }
 ],
 "metadata": {
  "kernelspec": {
   "display_name": "Python [default]",
   "language": "python",
   "name": "python3"
  },
  "language_info": {
   "codemirror_mode": {
    "name": "ipython",
    "version": 3
   },
   "file_extension": ".py",
   "mimetype": "text/x-python",
   "name": "python",
   "nbconvert_exporter": "python",
   "pygments_lexer": "ipython3",
   "version": "3.5.3"
  }
 },
 "nbformat": 4,
 "nbformat_minor": 0
}
