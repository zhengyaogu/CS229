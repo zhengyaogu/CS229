{
 "cells": [
  {
   "cell_type": "markdown",
   "metadata": {},
   "source": [
    "http://cs229.stanford.edu/ps/ps2/ps2.pdf"
   ]
  },
  {
   "cell_type": "markdown",
   "metadata": {},
   "source": [
    "Use $M$ to represent the kernal matrix, so in general\n",
    "\n",
    "$$\n",
    "u^TMu = \\sum_{i,j}^{m} u_i u_j K(x^{(i)}, x^{(j)})\n",
    "$$"
   ]
  },
  {
   "cell_type": "markdown",
   "metadata": {},
   "source": [
    "# (a)"
   ]
  },
  {
   "cell_type": "markdown",
   "metadata": {},
   "source": [
    "\\begin{align*}\n",
    "u^TMu &= \\sum_{i,j}^{m} u_i u_j (K_1(x^{(i)}, x^{(j)}) + K_2(x^{(i)}, x^{(j)})) \\\\\n",
    "      &= \\sum_{i,j}^{m} (u_i u_j K_1(x^{(i)}, x^{(j)})) + \\sum_{i,j}^{m} (u_i u_j K_2(x^{(i)}, x^{(j)})) \\\\\n",
    "      &\\ge 0\n",
    "\\end{align*}\n",
    "so $K$ is a kernel"
   ]
  },
  {
   "cell_type": "markdown",
   "metadata": {},
   "source": [
    "# (b)"
   ]
  },
  {
   "cell_type": "markdown",
   "metadata": {},
   "source": [
    "\\begin{align*}\n",
    "u^TMu &= \\sum_{i,j}^{m} u_i u_j (K_1(x^{(i)}, x^{(j)}) - K_2(x^{(i)}, x^{(j)})) \\\\\n",
    "      &= \\sum_{i,j}^{m} (u_i u_j K_1(x^{(i)}, x^{(j)})) - \\sum_{i,j}^{m} (u_i u_j K_2(x^{(i)}, x^{(j)})) \\\\\n",
    "\\end{align*}\n",
    "\n",
    "doesn't necessarily equals 0, so $K$ is not a kernel"
   ]
  },
  {
   "cell_type": "markdown",
   "metadata": {},
   "source": [
    "# (c)"
   ]
  },
  {
   "cell_type": "markdown",
   "metadata": {},
   "source": [
    "Given $a \\in \\mathbb{R}$ and $a > 0$\n",
    "\n",
    "\\begin{align*}\n",
    "u^TMu &= \\sum_{i,j}^{m} u_i u_j aK_1(x^{(i)}, x^{(j)}) \\\\\n",
    "      &\\ge 0\n",
    "\\end{align*}\n",
    "\n",
    "so $K$ is a kernel"
   ]
  },
  {
   "cell_type": "markdown",
   "metadata": {},
   "source": [
    "# (d)"
   ]
  },
  {
   "cell_type": "markdown",
   "metadata": {},
   "source": [
    "Given $a \\in \\mathbb{R}$ and $a > 0$\n",
    "\n",
    "\\begin{align*}\n",
    "u^TMu &= \\sum_{i,j}^{m} u_i u_j (-a)K_1(x^{(i)}, x^{(j)}) \\\\\n",
    "      &\\le 0\n",
    "\\end{align*}\n",
    "\n",
    "so $K$ is not a kernel"
   ]
  },
  {
   "cell_type": "markdown",
   "metadata": {},
   "source": [
    "# (e)"
   ]
  },
  {
   "cell_type": "markdown",
   "metadata": {},
   "source": [
    "\\begin{align*}\n",
    "u^TKu \n",
    "    &= u^T K_1 K_2 \\\\\n",
    "    &= u^T K_1 uu^T (uu^T)^{-1} (uu^T)^{-1} uu^TK_2 u \\\\\n",
    "    &= (u^T K_1 u)u^T (Q^T \\Lambda Q)^{-1} (Q^T \\Lambda Q)^{-1} u(u^TK_2 u) \\\\ \n",
    "    &= (u^T K_1 u) u^T Q^T \\Lambda^{-1} Q Q^T \\Lambda^{-1} Q u(u^TK_2 u) \\\\\n",
    "    &= (u^T K_1 u) (u^T Q^T) \\Lambda^{-1}  \\Lambda^{-1} (Q u) (u^TK_2 u) \\\\\n",
    "    &= (u^T K_1 u) \\bigg ((Qu)^T \\Lambda^{-2}  (Q u) \\bigg ) (u^TK_2 u) \\\\\n",
    "\\end{align*}"
   ]
  },
  {
   "cell_type": "markdown",
   "metadata": {},
   "source": [
    "Here $Q^T \\Lambda Q$ is the eigen-diagnalization of the symmetric matriu $uu^T$ with $QQ^T = I$.\n",
    "\n",
    "Given $K_1$ and $K_2$ are kernels, it's straightforward to see $u^T K u > 0$, hence $K = K_1 K_2$ is a kernel."
   ]
  },
  {
   "cell_type": "markdown",
   "metadata": {},
   "source": [
    "# (f)"
   ]
  },
  {
   "cell_type": "markdown",
   "metadata": {},
   "source": [
    "\\begin{align*}\n",
    "u^TMu &= \\sum_{i,j}^{m} u_i u_j f(x)f(z) \\\\\n",
    "\\end{align*}\n",
    "\n",
    "no guarantee it's $\\ge 0$, so $K$ may not be a kernel"
   ]
  },
  {
   "cell_type": "markdown",
   "metadata": {},
   "source": [
    "# (g)"
   ]
  },
  {
   "cell_type": "markdown",
   "metadata": {},
   "source": [
    "\\begin{align*}\n",
    "u^TMu &= \\sum_{i,j}^{m} u_i u_j K_3(\\phi(x^{(i)}), \\phi(x^{(j)}))\\\\\n",
    "      &\\ge 0\n",
    "\\end{align*}\n",
    "\n",
    "it appears that $\\phi$ doesn't matter as long as $K_3$ is a valid kernel. It's equivalent to transform all input first with $\\phi$ and then run SVM with $K_3$ as a kernel."
   ]
  },
  {
   "cell_type": "markdown",
   "metadata": {},
   "source": [
    "# (h)"
   ]
  },
  {
   "cell_type": "markdown",
   "metadata": {},
   "source": [
    "Given\n",
    "\n",
    "\\begin{align*}\n",
    "u^TMu &= \\sum_{i,j}^{m} u_i u_j K_1(x^{(i)}, x^{(j)})\\\\\n",
    "      &\\ge 0\n",
    "\\end{align*}\n",
    "\n",
    "doesn't guarantee \n",
    "\n",
    "\\begin{align*}\n",
    "u^TMu &= \\sum_{i,j}^{m} u_i u_j p(K_1(x^{(i)}, x^{(j)}))\\\\\n",
    "\\end{align*}\n",
    "\n",
    "will be $\\ge 0$ because whenever $ u_i u_j K_1(x^{(i)}, x^{(j)}) <0$, the corresponding coefficient in $p$ could be set to be arbitraily large to transform the sum to be negative, so this $K$ may not be a kernel."
   ]
  },
  {
   "cell_type": "code",
   "execution_count": null,
   "metadata": {
    "collapsed": true
   },
   "outputs": [],
   "source": []
  }
 ],
 "metadata": {
  "anaconda-cloud": {},
  "kernelspec": {
   "display_name": "Python [default]",
   "language": "python",
   "name": "python3"
  },
  "language_info": {
   "codemirror_mode": {
    "name": "ipython",
    "version": 3
   },
   "file_extension": ".py",
   "mimetype": "text/x-python",
   "name": "python",
   "nbconvert_exporter": "python",
   "pygments_lexer": "ipython3",
   "version": "3.5.3"
  }
 },
 "nbformat": 4,
 "nbformat_minor": 0
}
